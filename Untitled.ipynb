{
 "cells": [
  {
   "cell_type": "code",
   "execution_count": 3,
   "id": "8b8f903c",
   "metadata": {},
   "outputs": [],
   "source": [
    "import os.path\n",
    "file_exists = os.path.exists('acc.txt')\n",
    "if(file_exists):\n",
    "    file=open('content.txt')\n",
    "else:\n",
    "    textCont=''"
   ]
  },
  {
   "cell_type": "code",
   "execution_count": 1,
   "id": "ecb4547a",
   "metadata": {},
   "outputs": [
    {
     "name": "stdout",
     "output_type": "stream",
     "text": [
      "Enter the pc USer\n",
      "D\n"
     ]
    }
   ],
   "source": [
    "import sys\n",
    "import requests\n",
    "import os\n",
    "import xlsxwriter\n",
    "import time\n",
    "from selenium import webdriver\n",
    "from pynput.keyboard import Controller, Key\n",
    "from selenium.webdriver.common.keys import Keys\n",
    "import openpyxl\n",
    "from selenium.webdriver.common.by import By\n",
    "from selenium.webdriver.support.ui import WebDriverWait\n",
    "from selenium.webdriver.support import expected_conditions as EC\n",
    "import docx2txt as d2t\n",
    "from docx.shared import Inches\n",
    "from docx import Document\n",
    "from bs4 import BeautifulSoup\n",
    "import wget\n",
    "import docx2txt as d2t\n",
    "pcuser=input(\"Enter the pc USer\\n\")\n",
    "chrome_options = webdriver.ChromeOptions()\n",
    "chrome_options.add_argument(r'--user-data-dir=C:\\Users\\deepak\\AppData\\Local\\Google\\Chrome\\User Data')\n",
    "driver = webdriver.Chrome(executable_path=\"C:\\chromedriver.exe\", options=chrome_options)\n",
    "# driver = webdriver.Chrome(executable_path=\"C:\\chromedriver.exe\")\n",
    "URL = \"https://www.google.com/\"\n",
    "driver.maximize_window()"
   ]
  },
  {
   "cell_type": "code",
   "execution_count": 8,
   "id": "8b951e56",
   "metadata": {},
   "outputs": [],
   "source": [
    "URL = \"https://twitter.com/i/flow/login\"\n",
    "\n",
    "driver.get(URL)"
   ]
  },
  {
   "cell_type": "code",
   "execution_count": 10,
   "id": "3e1c46bd",
   "metadata": {},
   "outputs": [
    {
     "ename": "TimeoutException",
     "evalue": "Message: \n",
     "output_type": "error",
     "traceback": [
      "\u001b[1;31m---------------------------------------------------------------------------\u001b[0m",
      "\u001b[1;31mTimeoutException\u001b[0m                          Traceback (most recent call last)",
      "\u001b[1;32m~\\AppData\\Local\\Temp/ipykernel_11364/157710244.py\u001b[0m in \u001b[0;36m<module>\u001b[1;34m\u001b[0m\n\u001b[0;32m      3\u001b[0m \u001b[0mpathstr\u001b[0m\u001b[1;33m=\u001b[0m\u001b[1;34m\"//textarea[@placeholder='What's happening?']\"\u001b[0m\u001b[1;33m\u001b[0m\u001b[1;33m\u001b[0m\u001b[0m\n\u001b[0;32m      4\u001b[0m \u001b[1;31m#text conatent\u001b[0m\u001b[1;33m\u001b[0m\u001b[1;33m\u001b[0m\u001b[0m\n\u001b[1;32m----> 5\u001b[1;33m \u001b[0mWebDriverWait\u001b[0m\u001b[1;33m(\u001b[0m\u001b[0mdriver\u001b[0m\u001b[1;33m,\u001b[0m \u001b[1;36m10\u001b[0m\u001b[1;33m)\u001b[0m\u001b[1;33m.\u001b[0m\u001b[0muntil\u001b[0m\u001b[1;33m(\u001b[0m\u001b[0mEC\u001b[0m\u001b[1;33m.\u001b[0m\u001b[0mpresence_of_element_located\u001b[0m\u001b[1;33m(\u001b[0m\u001b[1;33m(\u001b[0m\u001b[0mBy\u001b[0m\u001b[1;33m.\u001b[0m\u001b[0mXPATH\u001b[0m\u001b[1;33m,\u001b[0m \u001b[0mpathstr\u001b[0m\u001b[1;33m)\u001b[0m\u001b[1;33m)\u001b[0m\u001b[1;33m)\u001b[0m\u001b[1;33m.\u001b[0m\u001b[0msend_keys\u001b[0m\u001b[1;33m(\u001b[0m\u001b[1;34m\"heyyy\"\u001b[0m\u001b[1;33m)\u001b[0m\u001b[1;33m\u001b[0m\u001b[1;33m\u001b[0m\u001b[0m\n\u001b[0m",
      "\u001b[1;32mC:\\Python39\\lib\\site-packages\\selenium\\webdriver\\support\\wait.py\u001b[0m in \u001b[0;36muntil\u001b[1;34m(self, method, message)\u001b[0m\n\u001b[0;32m     78\u001b[0m             \u001b[1;32mif\u001b[0m \u001b[0mtime\u001b[0m\u001b[1;33m.\u001b[0m\u001b[0mtime\u001b[0m\u001b[1;33m(\u001b[0m\u001b[1;33m)\u001b[0m \u001b[1;33m>\u001b[0m \u001b[0mend_time\u001b[0m\u001b[1;33m:\u001b[0m\u001b[1;33m\u001b[0m\u001b[1;33m\u001b[0m\u001b[0m\n\u001b[0;32m     79\u001b[0m                 \u001b[1;32mbreak\u001b[0m\u001b[1;33m\u001b[0m\u001b[1;33m\u001b[0m\u001b[0m\n\u001b[1;32m---> 80\u001b[1;33m         \u001b[1;32mraise\u001b[0m \u001b[0mTimeoutException\u001b[0m\u001b[1;33m(\u001b[0m\u001b[0mmessage\u001b[0m\u001b[1;33m,\u001b[0m \u001b[0mscreen\u001b[0m\u001b[1;33m,\u001b[0m \u001b[0mstacktrace\u001b[0m\u001b[1;33m)\u001b[0m\u001b[1;33m\u001b[0m\u001b[1;33m\u001b[0m\u001b[0m\n\u001b[0m\u001b[0;32m     81\u001b[0m \u001b[1;33m\u001b[0m\u001b[0m\n\u001b[0;32m     82\u001b[0m     \u001b[1;32mdef\u001b[0m \u001b[0muntil_not\u001b[0m\u001b[1;33m(\u001b[0m\u001b[0mself\u001b[0m\u001b[1;33m,\u001b[0m \u001b[0mmethod\u001b[0m\u001b[1;33m,\u001b[0m \u001b[0mmessage\u001b[0m\u001b[1;33m=\u001b[0m\u001b[1;34m''\u001b[0m\u001b[1;33m)\u001b[0m\u001b[1;33m:\u001b[0m\u001b[1;33m\u001b[0m\u001b[1;33m\u001b[0m\u001b[0m\n",
      "\u001b[1;31mTimeoutException\u001b[0m: Message: \n"
     ]
    }
   ],
   "source": [
    "twitt_post_elm = driver.find_element_by_xpath(\"//span[@class='Button-label'][text() = 'Tweet']\")\n",
    "twitt_post_elm.click()\n",
    "pathstr=\"//textarea[@placeholder=\"What's happening?\"]\"\n",
    "#text conatent\n",
    "WebDriverWait(driver, 10).until(EC.presence_of_element_located((By.XPATH, pathstr))).send_keys(\"heyyy\")"
   ]
  },
  {
   "cell_type": "code",
   "execution_count": 19,
   "id": "981e0691",
   "metadata": {},
   "outputs": [],
   "source": [
    "file=open('content.txt')\n",
    "data=file.read()"
   ]
  },
  {
   "cell_type": "code",
   "execution_count": 22,
   "id": "88a67cbb",
   "metadata": {},
   "outputs": [],
   "source": [
    "List=[]\n",
    "def displayText():\n",
    "    Counter = 0\n",
    "\n",
    "    # Reading from file\n",
    "    CoList = data.split(\"##\")\n",
    "    for i in CoList:\n",
    "        if i:\n",
    "            List.append(i)\n",
    "            Counter += 1\n",
    "    sizelist=len(List)-1\n",
    "    Counter=sizelist\n",
    "    return Counter\n"
   ]
  },
  {
   "cell_type": "code",
   "execution_count": 23,
   "id": "66aae958",
   "metadata": {},
   "outputs": [
    {
     "data": {
      "text/plain": [
       "3"
      ]
     },
     "execution_count": 23,
     "metadata": {},
     "output_type": "execute_result"
    }
   ],
   "source": [
    "displayText()"
   ]
  },
  {
   "cell_type": "code",
   "execution_count": 25,
   "id": "f6cd4847",
   "metadata": {},
   "outputs": [
    {
     "name": "stdout",
     "output_type": "stream",
     "text": [
      "hdadhedhadbbahedb\n",
      "dahdbhedbahdb\n",
      "adbdjabejdba\n",
      "eaednade\n",
      "\n",
      "\n",
      "\n",
      "\n",
      "\n",
      "asdbahdbhdbadhbaed\n",
      "djabdhabdhbda\n",
      "\n"
     ]
    }
   ],
   "source": [
    "for i in range(0,3):\n",
    "    print(List[i])"
   ]
  },
  {
   "cell_type": "code",
   "execution_count": null,
   "id": "3a77e2a5",
   "metadata": {},
   "outputs": [],
   "source": []
  }
 ],
 "metadata": {
  "kernelspec": {
   "display_name": "Python 3 (ipykernel)",
   "language": "python",
   "name": "python3"
  },
  "language_info": {
   "codemirror_mode": {
    "name": "ipython",
    "version": 3
   },
   "file_extension": ".py",
   "mimetype": "text/x-python",
   "name": "python",
   "nbconvert_exporter": "python",
   "pygments_lexer": "ipython3",
   "version": "3.9.9"
  }
 },
 "nbformat": 4,
 "nbformat_minor": 5
}
